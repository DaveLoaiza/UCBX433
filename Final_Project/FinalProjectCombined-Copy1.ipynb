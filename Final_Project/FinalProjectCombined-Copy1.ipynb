{
 "cells": [
  {
   "cell_type": "code",
   "execution_count": 1,
   "metadata": {
    "collapsed": true
   },
   "outputs": [],
   "source": [
    "# -*- coding: utf-8 -*-\n",
    "\"\"\"\n",
    "Python For Data Analysis And Scientific Computing\n",
    "UC Berkeley Extension\n",
    "\n",
    "Final Project -- Stock Performance Calculator\n",
    "\n",
    "David Loaiza -- dave.loaiza@gmail.com\n",
    "John Graham -- johngraham415@gmail.com\n",
    "\n",
    "\"\"\"\n",
    "  \n",
    "from datetime import date\n",
    "import numpy as np\n",
    "from os import path\n",
    "import csv\n",
    "#import simplejson as json\n",
    "import yahoo_finance as yf\n",
    "import pandas\n",
    "import pandas_datareader.data as web\n",
    "import datetime\n",
    "from pylab import *\n",
    "from scipy import *"
   ]
  },
  {
   "cell_type": "code",
   "execution_count": 2,
   "metadata": {
    "collapsed": true
   },
   "outputs": [],
   "source": [
    "#%%\n",
    "def update_portfolio(TICKER, QUANT, PRICE, DAY=date.today().day, MON=date.today().month, YEAR=date.today().year):\n",
    "    \"\"\"Writes stock purchases to open_lots4.txt file which stores portfolio\n",
    "    TICKER format is str4\n",
    "    QUANT format is int\n",
    "    PRICE format is float\n",
    "    DAY format is int, defaults to current day\n",
    "    MON format is int, defaults to current month\n",
    "    YEAR format is int, defautls to curent year\n",
    "    open_lots4.txt is a comma separated file, with each line representing a stock purchase lot: TICKER,QUANTITY,PRICE,PURCHASEDATE\n",
    "    \"\"\" \n",
    "   #%% \n",
    "    if path.exists('open_lots4.txt') == True:      #Check to see if file exists\n",
    "        open_lot = open('open_lots4.txt', 'a')     #if exists, open in 'Append' \n",
    "    else:\n",
    "        open_lot = open('open_lots4.txt', 'w')     #else, opens in 'write' mode to create first time\n",
    "  #%%  \n",
    "    DATE = date(YEAR, MON, DAY)\n",
    "    open_lot.writelines(str(TICKER)+','+str(QUANT)+','+str(PRICE)+','+str(DATE)+'\\n')\n",
    "    open_lot.close()\n",
    "    return 'Adding purchase of %s shares of %s at a price of $ %s on %s to portfolio.' % (QUANT, TICKER, PRICE, DATE)\n",
    "#%%"
   ]
  },
  {
   "cell_type": "code",
   "execution_count": 3,
   "metadata": {
    "collapsed": false
   },
   "outputs": [
    {
     "data": {
      "text/plain": [
       "'Adding purchase of 400 shares of HPQ at a price of $ 80.07 on 2017-05-21 to portfolio.'"
      ]
     },
     "execution_count": 3,
     "metadata": {},
     "output_type": "execute_result"
    }
   ],
   "source": [
    "update_portfolio('^GSPC',1,2257.83,3,1,2017)\n",
    "update_portfolio('XOM',300,123.45,3,1,2017)\n",
    "update_portfolio('CVX',100,75.00,3,1,2017)\n",
    "update_portfolio('MMM',50,122.97,3,1,2017)\n",
    "update_portfolio('MCD',75,92.02,3,1,2017)\n",
    "update_portfolio('WMT',150,67.22,3,1,2017)\n",
    "update_portfolio('UTX',125,20.2,3,1,2017)\n",
    "update_portfolio('BA',225,87.34)\n",
    "update_portfolio('CAT',250,455.34)\n",
    "update_portfolio('JPM',200,234.12)\n",
    "update_portfolio('HPQ',400,80.07)\n"
   ]
  },
  {
   "cell_type": "code",
   "execution_count": 4,
   "metadata": {
    "collapsed": true
   },
   "outputs": [],
   "source": [
    "def stock_list():\n",
    "    \"\"\" Parses the open_lots4.txt portfolio file and returns a list of the stock tickers of those stocks held in the Portfolio \"\"\"\n",
    "    open_lot = open('final_project/open_lots4.txt', 'r')     #open open_lots4.txt file for reading\n",
    "    stock_list = []\n",
    "    reader = csv.DictReader(open_lot, fieldnames=('Stock', 'Quant', 'Price', 'Date'))\n",
    "    for row in reader:\n",
    "        stock_list.append(row['Stock'])\n",
    "    stock_list = list(set(stock_list))\n",
    "    return stock_list                                       #returns a list that can be iterated through to find daily prices\n"
   ]
  },
  {
   "cell_type": "code",
   "execution_count": 5,
   "metadata": {
    "collapsed": true
   },
   "outputs": [],
   "source": [
    "def get_price(stock_list):\n",
    "    \"\"\" Takes a list of strings (stock tickers), and uses each ticker string to query Yahoo finance API and pull most current share price \"\"\"\n",
    "    stock_prices = {'Share':'Latest Price'}                 #dictionary for storing stock/price pairs\n",
    "    curr_price = open('final_project/curr_price.txt', 'w')  #file for writing latest stock price\n",
    "    for s in stock_list:                                    #loop through list of stocks, query Yahoo with each\n",
    "        share = yf.Share(s)\n",
    "        c_price = share.get_price()\n",
    "        stock_prices.update({s:c_price})\n",
    "#    curr_price.write(str(stock_prices))\n",
    "    json.dump(stock_prices,curr_price)    \n",
    "    curr_price.close()\n",
    "    return stock_prices"
   ]
  },
  {
   "cell_type": "code",
   "execution_count": 6,
   "metadata": {
    "collapsed": true
   },
   "outputs": [],
   "source": [
    "def get_price_hist():\n",
    "    \"\"\" Function parses open_lots4.txt portfolio file, returns historical data including daily prices for all stocks since their purchase date \"\"\"\n",
    "    open_lot = open('open_lots4.txt', 'r')       #file containing all open lots\n",
    "    reader = csv.DictReader(open_lot, fieldnames=('Stock', 'Quant', 'Price', 'Date'))\n",
    "    stock_dates = {}                                          #to be used to populate Yahoo query with stock tickers and dates for historical data \n",
    "    for row in reader:                                        #populate stock_dates dictionary\n",
    "        stock_dates.update({row['Stock']:row['Date']})\n",
    "    print(stock_dates)\n",
    "    open_lot.close()\n",
    "    price_hist = open('price_hist.txt', 'w')    #file for writing historical price data\n",
    "    today = str(date.today().year)\n",
    "    if len(str(date.today().month)) == 1:\n",
    "        today = today+'-0'+str(date.today().month)\n",
    "    else:\n",
    "        today = today+'-'+str(date.today().month)\n",
    "    if len(str(date.today().day)) == 1:\n",
    "        today = today+'-0'+str(date.today().day)\n",
    "    else:\n",
    "        today = today+'-'+str(date.today().day)\n",
    "    print(today)\n",
    "    for stock, date1 in stock_dates.items():                            #iterate through stock_dates dictionary\n",
    "            share = yf.Share(stock)\n",
    "            print(stock + date1 + today)\n",
    "            print(share.get_historical(date1, today))                                \n",
    "            #json.dump(share.get_historical(date1, today),price_hist)\n",
    "            price_hist.close()\n",
    "            price_hist = open('final_project/price_hist.txt', 'a')\n",
    "    price_hist.close()\n"
   ]
  },
  {
   "cell_type": "code",
   "execution_count": 7,
   "metadata": {
    "collapsed": false
   },
   "outputs": [],
   "source": [
    "df = 7\n",
    "def importy(filename):\n",
    "        df = pandas.read_csv(filename)\n",
    "        df.columns = ['Stock', 'Quant', 'Price', 'Date']\n",
    "        return df\n",
    "        \n",
    "\n",
    "df = importy('open_lots4.txt') "
   ]
  },
  {
   "cell_type": "code",
   "execution_count": 8,
   "metadata": {
    "collapsed": false
   },
   "outputs": [
    {
     "data": {
      "text/html": [
       "<div>\n",
       "<table border=\"1\" class=\"dataframe\">\n",
       "  <thead>\n",
       "    <tr style=\"text-align: right;\">\n",
       "      <th></th>\n",
       "      <th>Stock</th>\n",
       "      <th>Quant</th>\n",
       "      <th>Price</th>\n",
       "      <th>Date</th>\n",
       "    </tr>\n",
       "  </thead>\n",
       "  <tbody>\n",
       "    <tr>\n",
       "      <th>0</th>\n",
       "      <td>XOM</td>\n",
       "      <td>300</td>\n",
       "      <td>123.45</td>\n",
       "      <td>2017-01-03</td>\n",
       "    </tr>\n",
       "    <tr>\n",
       "      <th>1</th>\n",
       "      <td>CVX</td>\n",
       "      <td>100</td>\n",
       "      <td>75.00</td>\n",
       "      <td>2017-01-03</td>\n",
       "    </tr>\n",
       "    <tr>\n",
       "      <th>2</th>\n",
       "      <td>MMM</td>\n",
       "      <td>50</td>\n",
       "      <td>122.97</td>\n",
       "      <td>2017-01-03</td>\n",
       "    </tr>\n",
       "    <tr>\n",
       "      <th>3</th>\n",
       "      <td>MCD</td>\n",
       "      <td>75</td>\n",
       "      <td>92.02</td>\n",
       "      <td>2017-01-03</td>\n",
       "    </tr>\n",
       "    <tr>\n",
       "      <th>4</th>\n",
       "      <td>WMT</td>\n",
       "      <td>150</td>\n",
       "      <td>67.22</td>\n",
       "      <td>2017-01-03</td>\n",
       "    </tr>\n",
       "  </tbody>\n",
       "</table>\n",
       "</div>"
      ],
      "text/plain": [
       "  Stock  Quant   Price        Date\n",
       "0   XOM    300  123.45  2017-01-03\n",
       "1   CVX    100   75.00  2017-01-03\n",
       "2   MMM     50  122.97  2017-01-03\n",
       "3   MCD     75   92.02  2017-01-03\n",
       "4   WMT    150   67.22  2017-01-03"
      ]
     },
     "execution_count": 8,
     "metadata": {},
     "output_type": "execute_result"
    }
   ],
   "source": [
    "df.head()"
   ]
  },
  {
   "cell_type": "code",
   "execution_count": 9,
   "metadata": {
    "collapsed": false
   },
   "outputs": [
    {
     "data": {
      "text/plain": [
       "{'AfterHoursChangeRealtime': None,\n",
       " 'AnnualizedGain': None,\n",
       " 'Ask': '960.00',\n",
       " 'AskRealtime': None,\n",
       " 'AverageDailyVolume': '1419980',\n",
       " 'Bid': '932.00',\n",
       " 'BidRealtime': None,\n",
       " 'BookValue': '209.43',\n",
       " 'Change': '+3.77',\n",
       " 'ChangeFromFiftydayMovingAverage': '53.91',\n",
       " 'ChangeFromTwoHundreddayMovingAverage': '112.54',\n",
       " 'ChangeFromYearHigh': '-9.10',\n",
       " 'ChangeFromYearLow': '270.73',\n",
       " 'ChangePercentRealtime': None,\n",
       " 'ChangeRealtime': None,\n",
       " 'Change_PercentChange': '+3.77 - +0.41%',\n",
       " 'ChangeinPercent': '+0.41%',\n",
       " 'Commission': None,\n",
       " 'Currency': 'USD',\n",
       " 'DaysHigh': '937.76',\n",
       " 'DaysLow': '931.00',\n",
       " 'DaysRange': '931.00 - 937.76',\n",
       " 'DaysRangeRealtime': None,\n",
       " 'DaysValueChange': None,\n",
       " 'DaysValueChangeRealtime': None,\n",
       " 'DividendPayDate': None,\n",
       " 'DividendShare': None,\n",
       " 'DividendYield': None,\n",
       " 'EBITDA': '31.21B',\n",
       " 'EPSEstimateCurrentYear': '33.88',\n",
       " 'EPSEstimateNextQuarter': '8.40',\n",
       " 'EPSEstimateNextYear': '40.41',\n",
       " 'EarningsShare': '29.59',\n",
       " 'ErrorIndicationreturnedforsymbolchangedinvalid': None,\n",
       " 'ExDividendDate': None,\n",
       " 'FiftydayMovingAverage': '880.10',\n",
       " 'HighLimit': None,\n",
       " 'HoldingsGain': None,\n",
       " 'HoldingsGainPercent': None,\n",
       " 'HoldingsGainPercentRealtime': None,\n",
       " 'HoldingsGainRealtime': None,\n",
       " 'HoldingsValue': None,\n",
       " 'HoldingsValueRealtime': None,\n",
       " 'LastTradeDate': '5/19/2017',\n",
       " 'LastTradeDateTimeUTC': '2017-05-19 20:00:00 UTC+0000',\n",
       " 'LastTradePriceOnly': '934.01',\n",
       " 'LastTradeRealtimeWithTime': None,\n",
       " 'LastTradeTime': '4:00pm',\n",
       " 'LastTradeWithTime': '4:00pm - <b>934.01</b>',\n",
       " 'LowLimit': None,\n",
       " 'MarketCapRealtime': None,\n",
       " 'MarketCapitalization': '646.10B',\n",
       " 'MoreInfo': None,\n",
       " 'Name': 'Alphabet Inc.',\n",
       " 'Notes': None,\n",
       " 'OneyrTargetPrice': '999.00',\n",
       " 'Open': '931.47',\n",
       " 'OrderBookRealtime': None,\n",
       " 'PEGRatio': '1.44',\n",
       " 'PERatio': '31.56',\n",
       " 'PERatioRealtime': None,\n",
       " 'PercebtChangeFromYearHigh': '-0.96%',\n",
       " 'PercentChange': '+0.41%',\n",
       " 'PercentChangeFromFiftydayMovingAverage': '+6.13%',\n",
       " 'PercentChangeFromTwoHundreddayMovingAverage': '+13.70%',\n",
       " 'PercentChangeFromYearLow': '+40.82%',\n",
       " 'PreviousClose': '930.24',\n",
       " 'PriceBook': '4.44',\n",
       " 'PriceEPSEstimateCurrentYear': '27.57',\n",
       " 'PriceEPSEstimateNextYear': '23.11',\n",
       " 'PricePaid': None,\n",
       " 'PriceSales': '6.79',\n",
       " 'SharesOwned': None,\n",
       " 'ShortRatio': '2.03',\n",
       " 'StockExchange': 'NMS',\n",
       " 'Symbol': 'GOOG',\n",
       " 'TickerTrend': None,\n",
       " 'TradeDate': None,\n",
       " 'TwoHundreddayMovingAverage': '821.47',\n",
       " 'Volume': '1393024',\n",
       " 'YearHigh': '943.11',\n",
       " 'YearLow': '663.28',\n",
       " 'YearRange': '663.28 - 943.11',\n",
       " 'symbol': 'GOOG'}"
      ]
     },
     "execution_count": 9,
     "metadata": {},
     "output_type": "execute_result"
    }
   ],
   "source": [
    "google = yf.Share('GOOG')\n",
    "google._fetch()"
   ]
  },
  {
   "cell_type": "code",
   "execution_count": 10,
   "metadata": {
    "collapsed": false
   },
   "outputs": [
    {
     "data": {
      "text/plain": [
       "'934.01'"
      ]
     },
     "execution_count": 10,
     "metadata": {},
     "output_type": "execute_result"
    }
   ],
   "source": [
    "def getprice(stockname):\n",
    "    share = yf.Share(stockname)\n",
    "    return share.get_price()\n",
    "\n",
    "\n",
    "getprice('GOOG')"
   ]
  },
  {
   "cell_type": "code",
   "execution_count": 11,
   "metadata": {
    "collapsed": false
   },
   "outputs": [
    {
     "data": {
      "text/html": [
       "<div>\n",
       "<table border=\"1\" class=\"dataframe\">\n",
       "  <thead>\n",
       "    <tr style=\"text-align: right;\">\n",
       "      <th></th>\n",
       "      <th>Stock</th>\n",
       "      <th>Quant</th>\n",
       "      <th>Price</th>\n",
       "      <th>Date</th>\n",
       "      <th>CurrentPrice</th>\n",
       "    </tr>\n",
       "  </thead>\n",
       "  <tbody>\n",
       "    <tr>\n",
       "      <th>0</th>\n",
       "      <td>XOM</td>\n",
       "      <td>300</td>\n",
       "      <td>123.45</td>\n",
       "      <td>2017-01-03</td>\n",
       "      <td>81.93</td>\n",
       "    </tr>\n",
       "    <tr>\n",
       "      <th>1</th>\n",
       "      <td>CVX</td>\n",
       "      <td>100</td>\n",
       "      <td>75.00</td>\n",
       "      <td>2017-01-03</td>\n",
       "      <td>106.52</td>\n",
       "    </tr>\n",
       "    <tr>\n",
       "      <th>2</th>\n",
       "      <td>MMM</td>\n",
       "      <td>50</td>\n",
       "      <td>122.97</td>\n",
       "      <td>2017-01-03</td>\n",
       "      <td>195.80</td>\n",
       "    </tr>\n",
       "    <tr>\n",
       "      <th>3</th>\n",
       "      <td>MCD</td>\n",
       "      <td>75</td>\n",
       "      <td>92.02</td>\n",
       "      <td>2017-01-03</td>\n",
       "      <td>148.15</td>\n",
       "    </tr>\n",
       "    <tr>\n",
       "      <th>4</th>\n",
       "      <td>WMT</td>\n",
       "      <td>150</td>\n",
       "      <td>67.22</td>\n",
       "      <td>2017-01-03</td>\n",
       "      <td>78.77</td>\n",
       "    </tr>\n",
       "  </tbody>\n",
       "</table>\n",
       "</div>"
      ],
      "text/plain": [
       "  Stock  Quant   Price        Date CurrentPrice\n",
       "0   XOM    300  123.45  2017-01-03        81.93\n",
       "1   CVX    100   75.00  2017-01-03       106.52\n",
       "2   MMM     50  122.97  2017-01-03       195.80\n",
       "3   MCD     75   92.02  2017-01-03       148.15\n",
       "4   WMT    150   67.22  2017-01-03        78.77"
      ]
     },
     "execution_count": 11,
     "metadata": {},
     "output_type": "execute_result"
    }
   ],
   "source": [
    "df['CurrentPrice'] = df['Stock'].apply(getprice)        \n",
    "df.head()"
   ]
  },
  {
   "cell_type": "code",
   "execution_count": 12,
   "metadata": {
    "collapsed": false
   },
   "outputs": [
    {
     "name": "stdout",
     "output_type": "stream",
     "text": [
      "<class 'pandas.core.frame.DataFrame'>\n",
      "RangeIndex: 21 entries, 0 to 20\n",
      "Data columns (total 5 columns):\n",
      "Stock           21 non-null object\n",
      "Quant           21 non-null int64\n",
      "Price           21 non-null float64\n",
      "Date            21 non-null object\n",
      "CurrentPrice    21 non-null float64\n",
      "dtypes: float64(2), int64(1), object(2)\n",
      "memory usage: 920.0+ bytes\n"
     ]
    }
   ],
   "source": [
    "df['CurrentPrice'] = df['CurrentPrice'].astype(float)\n",
    "\n",
    "df.info()"
   ]
  },
  {
   "cell_type": "code",
   "execution_count": 13,
   "metadata": {
    "collapsed": false
   },
   "outputs": [
    {
     "data": {
      "text/html": [
       "<div>\n",
       "<table border=\"1\" class=\"dataframe\">\n",
       "  <thead>\n",
       "    <tr style=\"text-align: right;\">\n",
       "      <th></th>\n",
       "      <th>Stock</th>\n",
       "      <th>Quant</th>\n",
       "      <th>Price</th>\n",
       "      <th>Date</th>\n",
       "      <th>CurrentPrice</th>\n",
       "      <th>Performance</th>\n",
       "      <th>Unrealized Gain/Loss</th>\n",
       "    </tr>\n",
       "  </thead>\n",
       "  <tbody>\n",
       "    <tr>\n",
       "      <th>0</th>\n",
       "      <td>XOM</td>\n",
       "      <td>300</td>\n",
       "      <td>123.45</td>\n",
       "      <td>2017-01-03</td>\n",
       "      <td>81.93</td>\n",
       "      <td>-33.633050</td>\n",
       "      <td>-12456.00</td>\n",
       "    </tr>\n",
       "    <tr>\n",
       "      <th>1</th>\n",
       "      <td>CVX</td>\n",
       "      <td>100</td>\n",
       "      <td>75.00</td>\n",
       "      <td>2017-01-03</td>\n",
       "      <td>106.52</td>\n",
       "      <td>42.026667</td>\n",
       "      <td>3152.00</td>\n",
       "    </tr>\n",
       "    <tr>\n",
       "      <th>2</th>\n",
       "      <td>MMM</td>\n",
       "      <td>50</td>\n",
       "      <td>122.97</td>\n",
       "      <td>2017-01-03</td>\n",
       "      <td>195.80</td>\n",
       "      <td>59.225827</td>\n",
       "      <td>3641.50</td>\n",
       "    </tr>\n",
       "    <tr>\n",
       "      <th>3</th>\n",
       "      <td>MCD</td>\n",
       "      <td>75</td>\n",
       "      <td>92.02</td>\n",
       "      <td>2017-01-03</td>\n",
       "      <td>148.15</td>\n",
       "      <td>60.997609</td>\n",
       "      <td>4209.75</td>\n",
       "    </tr>\n",
       "    <tr>\n",
       "      <th>4</th>\n",
       "      <td>WMT</td>\n",
       "      <td>150</td>\n",
       "      <td>67.22</td>\n",
       "      <td>2017-01-03</td>\n",
       "      <td>78.77</td>\n",
       "      <td>17.182386</td>\n",
       "      <td>1732.50</td>\n",
       "    </tr>\n",
       "  </tbody>\n",
       "</table>\n",
       "</div>"
      ],
      "text/plain": [
       "  Stock  Quant   Price        Date  CurrentPrice  Performance  \\\n",
       "0   XOM    300  123.45  2017-01-03         81.93   -33.633050   \n",
       "1   CVX    100   75.00  2017-01-03        106.52    42.026667   \n",
       "2   MMM     50  122.97  2017-01-03        195.80    59.225827   \n",
       "3   MCD     75   92.02  2017-01-03        148.15    60.997609   \n",
       "4   WMT    150   67.22  2017-01-03         78.77    17.182386   \n",
       "\n",
       "   Unrealized Gain/Loss  \n",
       "0             -12456.00  \n",
       "1               3152.00  \n",
       "2               3641.50  \n",
       "3               4209.75  \n",
       "4               1732.50  "
      ]
     },
     "execution_count": 13,
     "metadata": {},
     "output_type": "execute_result"
    }
   ],
   "source": [
    "df['Performance'] = (df['CurrentPrice'] - df['Price'])/df['Price']*100\n",
    "df['Unrealized Gain/Loss'] = df['Quant']*(df['CurrentPrice']-df['Price'])\n",
    "df.head()"
   ]
  },
  {
   "cell_type": "code",
   "execution_count": 14,
   "metadata": {
    "collapsed": false
   },
   "outputs": [
    {
     "data": {
      "text/plain": [
       "1.9600000000000002"
      ]
     },
     "execution_count": 14,
     "metadata": {},
     "output_type": "execute_result"
    }
   ],
   "source": [
    "def Perf(CurrentPrice,Price):\n",
    "    return (CurrentPrice - Price)/Price\n",
    "Perf(7.4,2.5)    "
   ]
  },
  {
   "cell_type": "code",
   "execution_count": 15,
   "metadata": {
    "collapsed": true
   },
   "outputs": [],
   "source": [
    "df['PerformanceVectorized'] = np.vectorize(Perf)(df['CurrentPrice'], df['Price'])"
   ]
  },
  {
   "cell_type": "code",
   "execution_count": 16,
   "metadata": {
    "collapsed": false
   },
   "outputs": [
    {
     "data": {
      "text/plain": [
       "array(['XOM', 'CVX', 'MMM', 'MCD', 'WMT', 'UTX', 'BA', 'CAT', 'JPM', 'HPQ',\n",
       "       '^GSPC'], dtype=object)"
      ]
     },
     "execution_count": 16,
     "metadata": {},
     "output_type": "execute_result"
    }
   ],
   "source": [
    "df['Stock'].unique()"
   ]
  },
  {
   "cell_type": "code",
   "execution_count": 17,
   "metadata": {
    "collapsed": false
   },
   "outputs": [
    {
     "data": {
      "text/html": [
       "<div>\n",
       "<table border=\"1\" class=\"dataframe\">\n",
       "  <thead>\n",
       "    <tr style=\"text-align: right;\">\n",
       "      <th></th>\n",
       "      <th>Stock</th>\n",
       "      <th>Quant</th>\n",
       "      <th>Price</th>\n",
       "      <th>Date</th>\n",
       "      <th>CurrentPrice</th>\n",
       "      <th>Performance</th>\n",
       "      <th>Unrealized Gain/Loss</th>\n",
       "      <th>PerformanceVectorized</th>\n",
       "    </tr>\n",
       "  </thead>\n",
       "  <tbody>\n",
       "    <tr>\n",
       "      <th>0</th>\n",
       "      <td>XOM</td>\n",
       "      <td>300</td>\n",
       "      <td>123.45</td>\n",
       "      <td>2017-01-03</td>\n",
       "      <td>81.93</td>\n",
       "      <td>-33.633050</td>\n",
       "      <td>-12456.00</td>\n",
       "      <td>-0.336330</td>\n",
       "    </tr>\n",
       "    <tr>\n",
       "      <th>1</th>\n",
       "      <td>CVX</td>\n",
       "      <td>100</td>\n",
       "      <td>75.00</td>\n",
       "      <td>2017-01-03</td>\n",
       "      <td>106.52</td>\n",
       "      <td>42.026667</td>\n",
       "      <td>3152.00</td>\n",
       "      <td>0.420267</td>\n",
       "    </tr>\n",
       "    <tr>\n",
       "      <th>2</th>\n",
       "      <td>MMM</td>\n",
       "      <td>50</td>\n",
       "      <td>122.97</td>\n",
       "      <td>2017-01-03</td>\n",
       "      <td>195.80</td>\n",
       "      <td>59.225827</td>\n",
       "      <td>3641.50</td>\n",
       "      <td>0.592258</td>\n",
       "    </tr>\n",
       "    <tr>\n",
       "      <th>3</th>\n",
       "      <td>MCD</td>\n",
       "      <td>75</td>\n",
       "      <td>92.02</td>\n",
       "      <td>2017-01-03</td>\n",
       "      <td>148.15</td>\n",
       "      <td>60.997609</td>\n",
       "      <td>4209.75</td>\n",
       "      <td>0.609976</td>\n",
       "    </tr>\n",
       "    <tr>\n",
       "      <th>4</th>\n",
       "      <td>WMT</td>\n",
       "      <td>150</td>\n",
       "      <td>67.22</td>\n",
       "      <td>2017-01-03</td>\n",
       "      <td>78.77</td>\n",
       "      <td>17.182386</td>\n",
       "      <td>1732.50</td>\n",
       "      <td>0.171824</td>\n",
       "    </tr>\n",
       "  </tbody>\n",
       "</table>\n",
       "</div>"
      ],
      "text/plain": [
       "  Stock  Quant   Price        Date  CurrentPrice  Performance  \\\n",
       "0   XOM    300  123.45  2017-01-03         81.93   -33.633050   \n",
       "1   CVX    100   75.00  2017-01-03        106.52    42.026667   \n",
       "2   MMM     50  122.97  2017-01-03        195.80    59.225827   \n",
       "3   MCD     75   92.02  2017-01-03        148.15    60.997609   \n",
       "4   WMT    150   67.22  2017-01-03         78.77    17.182386   \n",
       "\n",
       "   Unrealized Gain/Loss  PerformanceVectorized  \n",
       "0             -12456.00              -0.336330  \n",
       "1               3152.00               0.420267  \n",
       "2               3641.50               0.592258  \n",
       "3               4209.75               0.609976  \n",
       "4               1732.50               0.171824  "
      ]
     },
     "execution_count": 17,
     "metadata": {},
     "output_type": "execute_result"
    }
   ],
   "source": [
    "df.head()"
   ]
  },
  {
   "cell_type": "code",
   "execution_count": 18,
   "metadata": {
    "collapsed": false,
    "scrolled": true
   },
   "outputs": [
    {
     "data": {
      "text/plain": [
       "<matplotlib.figure.Figure at 0x98c2f60>"
      ]
     },
     "metadata": {},
     "output_type": "display_data"
    },
    {
     "data": {
      "image/png": "[encoded data removed]",
      "text/plain": [
       "<matplotlib.figure.Figure at 0x98c7940>"
      ]
     },
     "metadata": {},
     "output_type": "display_data"
    }
   ],
   "source": [
    "plt.clf()\n",
    "df.plot.scatter(x='Price', y='Performance',s=df['Quant']*3);\n",
    "\n",
    "show()"
   ]
  },
  {
   "cell_type": "code",
   "execution_count": 19,
   "metadata": {
    "collapsed": false
   },
   "outputs": [],
   "source": [
    "x = df.groupby(['Stock'])['PerformanceVectorized'].mean()\n"
   ]
  },
  {
   "cell_type": "code",
   "execution_count": 20,
   "metadata": {
    "collapsed": false
   },
   "outputs": [
    {
     "data": {
      "text/plain": [
       "Stock\n",
       "BA     1.069613\n",
       "CAT   -0.775047\n",
       "CVX    0.420267\n",
       "HPQ   -0.762708\n",
       "JPM   -0.637878\n",
       "Name: PerformanceVectorized, dtype: float64"
      ]
     },
     "execution_count": 20,
     "metadata": {},
     "output_type": "execute_result"
    }
   ],
   "source": [
    "x.head()"
   ]
  },
  {
   "cell_type": "code",
   "execution_count": 21,
   "metadata": {
    "collapsed": false
   },
   "outputs": [
    {
     "data": {
      "text/plain": [
       "pandas.core.series.Series"
      ]
     },
     "execution_count": 21,
     "metadata": {},
     "output_type": "execute_result"
    }
   ],
   "source": [
    "type(x)"
   ]
  },
  {
   "cell_type": "code",
   "execution_count": 22,
   "metadata": {
    "collapsed": false
   },
   "outputs": [
    {
     "data": {
      "text/plain": [
       "numpy.ndarray"
      ]
     },
     "execution_count": 22,
     "metadata": {},
     "output_type": "execute_result"
    }
   ],
   "source": [
    "type(np.asarray(x.reset_index))"
   ]
  },
  {
   "cell_type": "code",
   "execution_count": 23,
   "metadata": {
    "collapsed": false
   },
   "outputs": [
    {
     "data": {
      "text/plain": [
       "<matplotlib.figure.Figure at 0x9eb7a90>"
      ]
     },
     "metadata": {},
     "output_type": "display_data"
    },
    {
     "data": {
      "image/png": "[encoded data removed]",
      "text/plain": [
       "<matplotlib.figure.Figure at 0x9e82400>"
      ]
     },
     "metadata": {},
     "output_type": "display_data"
    }
   ],
   "source": [
    "plt.figure()\n",
    "plt.clf()\n",
    "df.plot.bar(x = 'Stock', y = 'Performance'); plt.axhline(0, color='r')\n",
    "plt.ylabel('Performance in %')\n",
    "plt.show()"
   ]
  },
  {
   "cell_type": "code",
   "execution_count": 24,
   "metadata": {
    "collapsed": false
   },
   "outputs": [
    {
     "name": "stdout",
     "output_type": "stream",
     "text": [
      "126.12\n"
     ]
    },
    {
     "data": {
      "image/png": "[encoded data removed]",
      "text/plain": [
       "<matplotlib.figure.Figure at 0x9ea15c0>"
      ]
     },
     "metadata": {},
     "output_type": "display_data"
    }
   ],
   "source": [
    "start = datetime.datetime(2010, 1, 1)\n",
    "end = datetime.datetime(2013, 1, 27)\n",
    "f = web.DataReader(\"IBM\", 'google', start, end)\n",
    "print(f.ix['2010-01-25','Close'])\n",
    "f.reset_index()\n",
    "f.head()\n",
    "\n",
    "g=f.reset_index()\n",
    "i=g[['Date','Close']]\n",
    "i.plot()\n",
    "plt.show()"
   ]
  },
  {
   "cell_type": "code",
   "execution_count": 25,
   "metadata": {
    "collapsed": false
   },
   "outputs": [
    {
     "name": "stdout",
     "output_type": "stream",
     "text": [
      "126.12\n"
     ]
    },
    {
     "data": {
      "image/png": "[encoded data removed]",
      "text/plain": [
       "<matplotlib.figure.Figure at 0x98c7128>"
      ]
     },
     "metadata": {},
     "output_type": "display_data"
    },
    {
     "name": "stdout",
     "output_type": "stream",
     "text": [
      "                             ARIMA Model Results                              \n",
      "==============================================================================\n",
      "Dep. Variable:                D.Close   No. Observations:                  770\n",
      "Model:                 ARIMA(5, 1, 0)   Log Likelihood               -1628.433\n",
      "Method:                       css-mle   S.D. of innovations              2.005\n",
      "Date:                Sun, 21 May 2017   AIC                           3270.865\n",
      "Time:                        22:41:13   BIC                           3303.390\n",
      "Sample:                    01-05-2010   HQIC                          3283.382\n",
      "                         - 01-25-2013                                         \n",
      "=================================================================================\n",
      "                    coef    std err          z      P>|z|      [95.0% Conf. Int.]\n",
      "---------------------------------------------------------------------------------\n",
      "const             0.0927      0.063      1.469      0.142        -0.031     0.216\n",
      "ar.L1.D.Close     0.0087      0.036      0.241      0.809        -0.062     0.079\n",
      "ar.L2.D.Close     0.0268      0.036      0.748      0.454        -0.043     0.097\n",
      "ar.L3.D.Close    -0.0701      0.036     -1.938      0.053        -0.141     0.001\n",
      "ar.L4.D.Close    -0.0112      0.036     -0.308      0.758        -0.082     0.060\n",
      "ar.L5.D.Close    -0.1004      0.036     -2.773      0.006        -0.171    -0.029\n",
      "                                    Roots                                    \n",
      "=============================================================================\n",
      "                 Real           Imaginary           Modulus         Frequency\n",
      "-----------------------------------------------------------------------------\n",
      "AR.1            1.1945           -0.9511j            1.5269           -0.1070\n",
      "AR.2            1.1945           +0.9511j            1.5269            0.1070\n",
      "AR.3           -1.5034           -0.0000j            1.5034           -0.5000\n",
      "AR.4           -0.4984           -1.6101j            1.6855           -0.2978\n",
      "AR.5           -0.4984           +1.6101j            1.6855            0.2978\n",
      "-----------------------------------------------------------------------------\n"
     ]
    },
    {
     "data": {
      "image/png": "[encoded data removed]",
      "text/plain": [
       "<matplotlib.figure.Figure at 0xc231668>"
      ]
     },
     "metadata": {},
     "output_type": "display_data"
    },
    {
     "data": {
      "image/png": "[encoded data removed]",
      "text/plain": [
       "<matplotlib.figure.Figure at 0xc25bc88>"
      ]
     },
     "metadata": {},
     "output_type": "display_data"
    },
    {
     "name": "stdout",
     "output_type": "stream",
     "text": [
      "                0\n",
      "count  770.000000\n",
      "mean    -0.000642\n",
      "std      2.006777\n",
      "min    -10.600097\n",
      "25%     -0.968123\n",
      "50%     -0.014294\n",
      "75%      1.022131\n",
      "max      9.693168\n"
     ]
    }
   ],
   "source": [
    "from pandas import read_csv\n",
    "from pandas import datetime\n",
    "from pandas import DataFrame\n",
    "from statsmodels.tsa.arima_model import ARIMA\n",
    "from matplotlib import pyplot\n",
    "from datetime import date\n",
    "import numpy as np\n",
    "from os import path\n",
    "import csv\n",
    "import yahoo_finance as yf\n",
    "import pandas\n",
    "import pandas_datareader.data as web\n",
    "import datetime\n",
    "from pylab import *\n",
    "from scipy import *\n",
    "\n",
    "start = datetime.datetime(2010, 1, 1)\n",
    "end = datetime.datetime(2013, 1, 27)\n",
    "f = web.DataReader(\"IBM\", 'google', start, end)\n",
    "print(f.ix['2010-01-25','Close'])\n",
    "f.reset_index()\n",
    "f.head()\n",
    "\n",
    "g=f.reset_index()\n",
    "i=g[['Date','Close']]\n",
    "i.plot()\n",
    "plt.show()\n",
    "\n",
    "f.head()\n",
    "\n",
    "model = ARIMA(f['Close'], order=(5,1,0))\n",
    "\n",
    "model_fit = model.fit(disp=0)\n",
    "print(model_fit.summary())\n",
    "# plot residual errors\n",
    "residuals = DataFrame(model_fit.resid)\n",
    "residuals.plot()\n",
    "pyplot.show()\n",
    "residuals.plot(kind='kde')\n",
    "pyplot.show()\n",
    "print(residuals.describe())"
   ]
  },
  {
   "cell_type": "code",
   "execution_count": null,
   "metadata": {
    "collapsed": true
   },
   "outputs": [],
   "source": []
  },
  {
   "cell_type": "code",
   "execution_count": null,
   "metadata": {
    "collapsed": true
   },
   "outputs": [],
   "source": []
  }
 ],
 "metadata": {
  "kernelspec": {
   "display_name": "Python 3",
   "language": "python",
   "name": "python3"
  },
  "language_info": {
   "codemirror_mode": {
    "name": "ipython",
    "version": 3
   },
   "file_extension": ".py",
   "mimetype": "text/x-python",
   "name": "python",
   "nbconvert_exporter": "python",
   "pygments_lexer": "ipython3",
   "version": "3.6.0"
  }
 },
 "nbformat": 4,
 "nbformat_minor": 2
}
